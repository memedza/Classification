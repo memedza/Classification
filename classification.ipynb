{
 "cells": [
  {
   "cell_type": "markdown",
   "id": "6d4ff02a",
   "metadata": {},
   "source": [
    "# Problem Klasyfikacji"
   ]
  },
  {
   "cell_type": "markdown",
   "id": "0a27f85d",
   "metadata": {},
   "source": [
    "Dodanie potrzenych bibliotek:"
   ]
  },
  {
   "cell_type": "code",
   "execution_count": 3,
   "id": "bcdb128e",
   "metadata": {},
   "outputs": [],
   "source": [
    "import tensorflow as tf \n",
    "from tensorflow import keras"
   ]
  },
  {
   "cell_type": "code",
   "execution_count": 4,
   "id": "6105df72",
   "metadata": {},
   "outputs": [],
   "source": [
    "import numpy as np\n",
    "import matplotlib.pyplot as plt"
   ]
  },
  {
   "cell_type": "code",
   "execution_count": 5,
   "id": "e18bd2aa",
   "metadata": {},
   "outputs": [
    {
     "name": "stdout",
     "output_type": "stream",
     "text": [
      "2.8.0\n"
     ]
    }
   ],
   "source": [
    "print(tf.__version__)"
   ]
  },
  {
   "cell_type": "markdown",
   "id": "b1ea3a7b",
   "metadata": {},
   "source": [
    "Impost danych oraz podzielenie ich na zbiór testowy i uczący się. "
   ]
  },
  {
   "cell_type": "code",
   "execution_count": 6,
   "id": "e44e0922",
   "metadata": {},
   "outputs": [],
   "source": [
    "fashion_mnist = keras.datasets.fashion_mnist"
   ]
  },
  {
   "cell_type": "code",
   "execution_count": 7,
   "id": "b1d5408c",
   "metadata": {},
   "outputs": [],
   "source": [
    "(train_images, train_labels), (test_images, test_labels)= fashion_mnist.load_data()"
   ]
  },
  {
   "cell_type": "markdown",
   "id": "9d2e7468",
   "metadata": {},
   "source": [
    "Przypisanie nazw klas do których bedziemy klasyfikować zdjecia "
   ]
  },
  {
   "cell_type": "code",
   "execution_count": 6,
   "id": "4eef1e24",
   "metadata": {},
   "outputs": [],
   "source": [
    "class_names = ['T-shists/tops', 'Trouser', 'Pullover', 'Dress', 'Coat', 'Sandal', 'Shirt',\n",
    "               'Sneaker', 'Bag', 'Anklee boot']"
   ]
  },
  {
   "cell_type": "markdown",
   "id": "ed32a48e",
   "metadata": {},
   "source": [
    "Wyświetlamy rozmiary zmiennych"
   ]
  },
  {
   "cell_type": "code",
   "execution_count": 7,
   "id": "80ea96f9",
   "metadata": {},
   "outputs": [
    {
     "data": {
      "text/plain": [
       "(60000, 28, 28)"
      ]
     },
     "execution_count": 7,
     "metadata": {},
     "output_type": "execute_result"
    }
   ],
   "source": [
    "train_images.shape"
   ]
  },
  {
   "cell_type": "code",
   "execution_count": 8,
   "id": "831d6a44",
   "metadata": {},
   "outputs": [
    {
     "data": {
      "text/plain": [
       "60000"
      ]
     },
     "execution_count": 8,
     "metadata": {},
     "output_type": "execute_result"
    }
   ],
   "source": [
    "len(train_labels)"
   ]
  },
  {
   "cell_type": "code",
   "execution_count": 9,
   "id": "915bd4d4",
   "metadata": {},
   "outputs": [
    {
     "data": {
      "text/plain": [
       "array([9, 0, 0, ..., 3, 0, 5], dtype=uint8)"
      ]
     },
     "execution_count": 9,
     "metadata": {},
     "output_type": "execute_result"
    }
   ],
   "source": [
    "train_labels"
   ]
  },
  {
   "cell_type": "code",
   "execution_count": 10,
   "id": "7917b047",
   "metadata": {},
   "outputs": [
    {
     "data": {
      "text/plain": [
       "(10000, 28, 28)"
      ]
     },
     "execution_count": 10,
     "metadata": {},
     "output_type": "execute_result"
    }
   ],
   "source": [
    "test_images.shape"
   ]
  },
  {
   "cell_type": "code",
   "execution_count": 11,
   "id": "92d5a391",
   "metadata": {},
   "outputs": [
    {
     "data": {
      "text/plain": [
       "10000"
      ]
     },
     "execution_count": 11,
     "metadata": {},
     "output_type": "execute_result"
    }
   ],
   "source": [
    "len(test_labels)"
   ]
  },
  {
   "cell_type": "markdown",
   "id": "8d86af13",
   "metadata": {},
   "source": [
    "Za pomocą biblioteki matplotlib wyświetlamy pierwsze zdjęcie"
   ]
  },
  {
   "cell_type": "code",
   "execution_count": 12,
   "id": "bc26cf6a",
   "metadata": {},
   "outputs": [
    {
     "data": {
      "image/png": "[encoded data removed]",
      "text/plain": [
       "<Figure size 432x288 with 2 Axes>"
      ]
     },
     "metadata": {
      "needs_background": "light"
     },
     "output_type": "display_data"
    }
   ],
   "source": [
    "plt.figure()\n",
    "plt.imshow(train_images[0])\n",
    "plt.colorbar()\n",
    "plt.grid(False)\n",
    "plt.show()"
   ]
  },
  {
   "cell_type": "markdown",
   "id": "28cdbd76",
   "metadata": {},
   "source": [
    "Następnie dzielimy zbiór treningowy i testowy aby otrzymać obraz przeskalowany z RGB"
   ]
  },
  {
   "cell_type": "code",
   "execution_count": 13,
   "id": "f3895a0b",
   "metadata": {},
   "outputs": [],
   "source": [
    "train_images = train_images /255\n",
    "test_images = test_images /255"
   ]
  },
  {
   "cell_type": "code",
   "execution_count": 14,
   "id": "7caacfaf",
   "metadata": {},
   "outputs": [
    {
     "data": {
      "text/plain": [
       "(60000, 28, 28)"
      ]
     },
     "execution_count": 14,
     "metadata": {},
     "output_type": "execute_result"
    }
   ],
   "source": [
    "train_images.shape"
   ]
  },
  {
   "cell_type": "markdown",
   "id": "e7dd478c",
   "metadata": {},
   "source": [
    "Nasz zbiór uczący sie naley nastepnie podzilic na zbiór treningowy i walidacyjny. Proporcje podziału dobrałam na zasadzie 85-15 ale nie jest to sztywna zasada, nastepnie jeszcze raz wyświetlamy rozmiar."
   ]
  },
  {
   "cell_type": "code",
   "execution_count": 15,
   "id": "6fd00389",
   "metadata": {},
   "outputs": [],
   "source": [
    "train_images_full = train_images[:int(0.85*60000)]\n",
    "valid_images_full = train_images[int(0.85*60000):]\n",
    "train_labels_full = train_labels[:int(0.85*60000):]\n",
    "valid_labels_full = train_labels[int(0.85*60000):]"
   ]
  },
  {
   "cell_type": "code",
   "execution_count": 16,
   "id": "81385568",
   "metadata": {},
   "outputs": [
    {
     "data": {
      "text/plain": [
       "(51000, 28, 28)"
      ]
     },
     "execution_count": 16,
     "metadata": {},
     "output_type": "execute_result"
    }
   ],
   "source": [
    "train_images_full.shape"
   ]
  },
  {
   "cell_type": "code",
   "execution_count": 17,
   "id": "4d137890",
   "metadata": {},
   "outputs": [
    {
     "data": {
      "text/plain": [
       "(9000, 28, 28)"
      ]
     },
     "execution_count": 17,
     "metadata": {},
     "output_type": "execute_result"
    }
   ],
   "source": [
    "valid_images_full.shape"
   ]
  },
  {
   "cell_type": "markdown",
   "id": "954e8c91",
   "metadata": {},
   "source": [
    "Dla lepszego zobrazowania danych wyświetlamy w pętli 25 obrazów w skali szarości wraz z nazwami class przypisanych do danego zdjęcia"
   ]
  },
  {
   "cell_type": "code",
   "execution_count": 18,
   "id": "ec95d32e",
   "metadata": {},
   "outputs": [
    {
     "data": {
      "image/png": "[encoded data removed]",
      "text/plain": [
       "<Figure size 720x720 with 25 Axes>"
      ]
     },
     "metadata": {},
     "output_type": "display_data"
    }
   ],
   "source": [
    "plt.figure(figsize=(10,10))\n",
    "for i in range(25):\n",
    "    plt.subplot(5,5,i+1)\n",
    "    plt.xticks([])\n",
    "    plt.yticks([])\n",
    "    plt.grid(False)\n",
    "    plt.imshow(train_images[i], cmap = plt.cm.binary)\n",
    "    plt.xlabel(class_names[train_labels[i]])\n",
    "plt.show()"
   ]
  },
  {
   "cell_type": "markdown",
   "id": "e3a110b3",
   "metadata": {},
   "source": [
    "Poniższa sieć neuronowa składa się z trzech warstw z czego pierwsza to warstwa Flatten. Kolejne dwie warstwy są \n",
    "rodzaju Dense z czego pierwsza ma 128 neuronów oraz funkcje aktywacji pojedynczego neuronu ReLU. ostatnia warstwa\n",
    "pozwala zapewnie decyzje o sklasyfikowaniu obrazu."
   ]
  },
  {
   "cell_type": "code",
   "execution_count": 19,
   "id": "adf91d60",
   "metadata": {},
   "outputs": [
    {
     "name": "stdout",
     "output_type": "stream",
     "text": [
      "Metal device set to: Apple M1\n"
     ]
    },
    {
     "name": "stderr",
     "output_type": "stream",
     "text": [
      "2022-06-12 19:32:10.568017: I tensorflow/core/common_runtime/pluggable_device/pluggable_device_factory.cc:305] Could not identify NUMA node of platform GPU ID 0, defaulting to 0. Your kernel may not have been built with NUMA support.\n",
      "2022-06-12 19:32:10.568160: I tensorflow/core/common_runtime/pluggable_device/pluggable_device_factory.cc:271] Created TensorFlow device (/job:localhost/replica:0/task:0/device:GPU:0 with 0 MB memory) -> physical PluggableDevice (device: 0, name: METAL, pci bus id: <undefined>)\n"
     ]
    }
   ],
   "source": [
    "model = keras.Sequential([\n",
    "    keras.layers.Flatten(input_shape=(28,28)),\n",
    "    keras.layers.Dense(128, activation=tf.nn.relu),\n",
    "    keras.layers.Dense(10, activation=tf.nn.softmax)\n",
    "])"
   ]
  },
  {
   "cell_type": "markdown",
   "id": "21a33982",
   "metadata": {},
   "source": [
    "Komplilacja modelu:"
   ]
  },
  {
   "cell_type": "code",
   "execution_count": 20,
   "id": "025fc7bd",
   "metadata": {},
   "outputs": [],
   "source": [
    "model.compile(optimizer='adam',\n",
    "             loss='sparse_categorical_crossentropy',\n",
    "             metrics=['accuracy'])"
   ]
  },
  {
   "cell_type": "code",
   "execution_count": 21,
   "id": "1a33ac79",
   "metadata": {},
   "outputs": [
    {
     "data": {
      "text/plain": [
       "(60000, 28, 28)"
      ]
     },
     "execution_count": 21,
     "metadata": {},
     "output_type": "execute_result"
    }
   ],
   "source": [
    "train_images.shape"
   ]
  },
  {
   "cell_type": "markdown",
   "id": "f961fe47",
   "metadata": {},
   "source": [
    "Funkcja callbacks.ModelCheckpoint zapisuje najlepsze dopasowanie do pliku o nazwie model_regression.h5 Funkcja .fit trenuje model na zbiorze treningowym oraz waliduje na zbiorze walidacyjnym."
   ]
  },
  {
   "cell_type": "code",
   "execution_count": 22,
   "id": "a57a7cea",
   "metadata": {},
   "outputs": [
    {
     "name": "stdout",
     "output_type": "stream",
     "text": [
      "Epoch 1/10\n"
     ]
    },
    {
     "name": "stderr",
     "output_type": "stream",
     "text": [
      "2022-06-12 19:32:15.486587: W tensorflow/core/platform/profile_utils/cpu_utils.cc:128] Failed to get CPU frequency: 0 Hz\n"
     ]
    },
    {
     "name": "stdout",
     "output_type": "stream",
     "text": [
      "   8/1594 [..............................] - ETA: 12s - loss: 2.0564 - accuracy: 0.2695 "
     ]
    },
    {
     "name": "stderr",
     "output_type": "stream",
     "text": [
      "2022-06-12 19:32:15.695180: I tensorflow/core/grappler/optimizers/custom_graph_optimizer_registry.cc:113] Plugin optimizer for device_type GPU is enabled.\n"
     ]
    },
    {
     "name": "stdout",
     "output_type": "stream",
     "text": [
      "1594/1594 [==============================] - ETA: 0s - loss: 0.5112 - accuracy: 0.8210"
     ]
    },
    {
     "name": "stderr",
     "output_type": "stream",
     "text": [
      "2022-06-12 19:32:25.357421: I tensorflow/core/grappler/optimizers/custom_graph_optimizer_registry.cc:113] Plugin optimizer for device_type GPU is enabled.\n"
     ]
    },
    {
     "name": "stdout",
     "output_type": "stream",
     "text": [
      "1594/1594 [==============================] - 11s 7ms/step - loss: 0.5112 - accuracy: 0.8210 - val_loss: 0.4185 - val_accuracy: 0.8514\n",
      "Epoch 2/10\n",
      "1594/1594 [==============================] - 11s 7ms/step - loss: 0.3843 - accuracy: 0.8619 - val_loss: 0.3684 - val_accuracy: 0.8682\n",
      "Epoch 3/10\n",
      "1594/1594 [==============================] - 11s 7ms/step - loss: 0.3411 - accuracy: 0.8769 - val_loss: 0.4217 - val_accuracy: 0.8376\n",
      "Epoch 4/10\n",
      "1594/1594 [==============================] - 11s 7ms/step - loss: 0.3163 - accuracy: 0.8847 - val_loss: 0.3596 - val_accuracy: 0.8720\n",
      "Epoch 5/10\n",
      "1594/1594 [==============================] - 11s 7ms/step - loss: 0.2984 - accuracy: 0.8909 - val_loss: 0.3175 - val_accuracy: 0.8841\n",
      "Epoch 6/10\n",
      "1594/1594 [==============================] - 11s 7ms/step - loss: 0.2837 - accuracy: 0.8950 - val_loss: 0.3357 - val_accuracy: 0.8784\n",
      "Epoch 7/10\n",
      "1594/1594 [==============================] - 11s 7ms/step - loss: 0.2694 - accuracy: 0.9004 - val_loss: 0.3175 - val_accuracy: 0.8879\n",
      "Epoch 8/10\n",
      "1594/1594 [==============================] - 11s 7ms/step - loss: 0.2575 - accuracy: 0.9042 - val_loss: 0.3138 - val_accuracy: 0.8861\n",
      "Epoch 9/10\n",
      "1594/1594 [==============================] - 11s 7ms/step - loss: 0.2488 - accuracy: 0.9082 - val_loss: 0.3209 - val_accuracy: 0.8863\n",
      "Epoch 10/10\n",
      "1594/1594 [==============================] - 11s 7ms/step - loss: 0.2376 - accuracy: 0.9122 - val_loss: 0.3254 - val_accuracy: 0.8880\n"
     ]
    },
    {
     "data": {
      "text/plain": [
       "<keras.callbacks.History at 0x157097c70>"
      ]
     },
     "execution_count": 22,
     "metadata": {},
     "output_type": "execute_result"
    }
   ],
   "source": [
    "checkpoint = keras.callbacks.ModelCheckpoint(\"model_classification.h5\", save_best_only=True)\n",
    "model.fit(train_images_full, train_labels_full, validation_data=(valid_images_full, valid_labels_full), epochs=10, callbacks=checkpoint)"
   ]
  },
  {
   "cell_type": "markdown",
   "id": "1e252de6",
   "metadata": {},
   "source": [
    "Zapisywanie modelu:"
   ]
  },
  {
   "cell_type": "code",
   "execution_count": 26,
   "id": "87f18cd8",
   "metadata": {},
   "outputs": [],
   "source": [
    "model.save(\"model_classification.h5\")"
   ]
  },
  {
   "cell_type": "markdown",
   "id": "26c6b983",
   "metadata": {},
   "source": [
    "Wyświetlanie końcowych statystyk wyuczonego modelu dla zbioru testowego."
   ]
  },
  {
   "cell_type": "code",
   "execution_count": 28,
   "id": "6e4e0a78",
   "metadata": {},
   "outputs": [
    {
     "name": "stdout",
     "output_type": "stream",
     "text": [
      " 27/313 [=>............................] - ETA: 1s - loss: 0.3306 - accuracy: 0.8843"
     ]
    },
    {
     "name": "stderr",
     "output_type": "stream",
     "text": [
      "2022-06-12 19:34:38.049133: I tensorflow/core/grappler/optimizers/custom_graph_optimizer_registry.cc:113] Plugin optimizer for device_type GPU is enabled.\n"
     ]
    },
    {
     "name": "stdout",
     "output_type": "stream",
     "text": [
      "313/313 [==============================] - 2s 5ms/step - loss: 0.3333 - accuracy: 0.8809\n",
      "Test accuracy: 0.8809000253677368\n"
     ]
    }
   ],
   "source": [
    "test_loss, test_acc = model.evaluate(test_images, test_labels)\n",
    "print('Test accuracy:', test_acc)"
   ]
  },
  {
   "cell_type": "markdown",
   "id": "176e0341",
   "metadata": {},
   "source": [
    "Wywołanie modelu dla zbioru testowego i zapisanie output-u do zmiennej predictions"
   ]
  },
  {
   "cell_type": "code",
   "execution_count": 21,
   "id": "5b34c53d",
   "metadata": {},
   "outputs": [
    {
     "name": "stderr",
     "output_type": "stream",
     "text": [
      "2022-06-04 01:19:53.001933: I tensorflow/core/grappler/optimizers/custom_graph_optimizer_registry.cc:113] Plugin optimizer for device_type GPU is enabled.\n"
     ]
    }
   ],
   "source": [
    "predictions = model.predict(test_images)"
   ]
  },
  {
   "cell_type": "markdown",
   "id": "92fcf548",
   "metadata": {},
   "source": [
    "Sprawdzamy wyniki wyświetlając za wartości zmiennej predictions"
   ]
  },
  {
   "cell_type": "code",
   "execution_count": 22,
   "id": "107c4af7",
   "metadata": {},
   "outputs": [
    {
     "data": {
      "text/plain": [
       "array([2.8727573e-08, 4.4098108e-10, 1.8228352e-06, 2.3027353e-12,\n",
       "       2.6780567e-08, 3.8054472e-04, 2.5934938e-07, 2.0089447e-03,\n",
       "       4.7086561e-09, 9.9760830e-01], dtype=float32)"
      ]
     },
     "execution_count": 22,
     "metadata": {},
     "output_type": "execute_result"
    }
   ],
   "source": [
    "predictions[0]"
   ]
  },
  {
   "cell_type": "code",
   "execution_count": 23,
   "id": "1a6f7f17",
   "metadata": {},
   "outputs": [
    {
     "data": {
      "text/plain": [
       "9"
      ]
     },
     "execution_count": 23,
     "metadata": {},
     "output_type": "execute_result"
    }
   ],
   "source": [
    "np.argmax(predictions[0])\n"
   ]
  },
  {
   "cell_type": "code",
   "execution_count": 24,
   "id": "977190b3",
   "metadata": {},
   "outputs": [
    {
     "data": {
      "text/plain": [
       "9"
      ]
     },
     "execution_count": 24,
     "metadata": {},
     "output_type": "execute_result"
    }
   ],
   "source": [
    "test_labels[0]"
   ]
  },
  {
   "cell_type": "markdown",
   "id": "fc431a0f",
   "metadata": {},
   "source": [
    "Poniższe funkcje napisane są aby pomóc w wyświetlaniu wyników. Funkcja pierwsza wyświetla zdjęcie z podpisem klasy oraz prawdopodobieństwem dobrego dopasowania. Druga funkcja wyświetla w postaci słupków na ile przypadków dopasowanie zostało wykonane poprawnie."
   ]
  },
  {
   "cell_type": "code",
   "execution_count": 27,
   "id": "da4a66ee",
   "metadata": {},
   "outputs": [],
   "source": [
    "def plot_image(i, predictions_array, true_label, img):\n",
    "    predictions_array, true_label, img = predictions_array[i], true_label[i], img[i]\n",
    "    plt.grid(False)\n",
    "    plt.xticks([])\n",
    "    plt.yticks([])\n",
    "    \n",
    "    plt.imshow(img, cmap=plt.cm.binary)\n",
    "    \n",
    "    predicted_label = np.argmax(predictions_array)\n",
    "    if predicted_label == true_label:\n",
    "        color = 'green'\n",
    "    else:\n",
    "        color = 'red'\n",
    "        \n",
    "    plt.xlabel(\"{}{:2.0f}% ({})\".format(class_names[predicted_label],\n",
    "                                100*np.max(predictions_array),\n",
    "                                 class_names[true_label]),\n",
    "                                  color=color)\n",
    "    \n",
    "    \n",
    "def plot_value_array(i, predictions_array, true_label):\n",
    "    predictions_array, true_label = predictions_array[i], true_label[i]\n",
    "    plt.grid(False)\n",
    "    plt.xticks([])\n",
    "    plt.yticks([])\n",
    "    thisplot = plt.bar(range(10), predictions_array, color=\"#777777\")\n",
    "    plt.ylim([0, 1])\n",
    "    predicted_label = np.argmax(predictions_array)\n",
    "    \n",
    "    thisplot[predicted_label].set_color('red')\n",
    "    thisplot[true_label].set_color('green')"
   ]
  },
  {
   "cell_type": "markdown",
   "id": "ff013302",
   "metadata": {},
   "source": [
    "Przykład użycia wcześniej napisanych funkcję wyświetlania, wyświetlamy tutaj Anklee boot wraz ze stopniem prawdopodobieństwa i słupkowym wykresem dopasowania."
   ]
  },
  {
   "cell_type": "code",
   "execution_count": 29,
   "id": "6f29f3b8",
   "metadata": {},
   "outputs": [
    {
     "data": {
      "image/png": "[encoded data removed]",
      "text/plain": [
       "<Figure size 432x216 with 2 Axes>"
      ]
     },
     "metadata": {},
     "output_type": "display_data"
    }
   ],
   "source": [
    "i = 0\n",
    "plt.figure(figsize=(6,3))\n",
    "plt.subplot(1,2,1)\n",
    "plot_image(i, predictions, test_labels, test_images)\n",
    "plt.subplot(1,2,2)\n",
    "plot_value_array(i, predictions, test_labels)\n",
    "plt.show()"
   ]
  },
  {
   "cell_type": "markdown",
   "id": "4ec010b7",
   "metadata": {},
   "source": [
    "Do zmiennej img przypisujemy zerową wartość próbki testowej oraz wywołujemy na niej funkcje przewidywania następnie wyświetlamy wykres słupkowy dopasowania. Jak widać w większości przypadków został dobrze dopasowany, jednak jak dobrze się przyjrzymy w zmiennej sneakers pojawia sie dopasowanie."
   ]
  },
  {
   "cell_type": "code",
   "execution_count": 30,
   "id": "b043b252",
   "metadata": {},
   "outputs": [
    {
     "name": "stdout",
     "output_type": "stream",
     "text": [
      "(28, 28)\n"
     ]
    }
   ],
   "source": [
    "img = test_images[0]\n",
    "print(img.shape)"
   ]
  },
  {
   "cell_type": "code",
   "execution_count": 31,
   "id": "1b01ffc3",
   "metadata": {},
   "outputs": [
    {
     "name": "stdout",
     "output_type": "stream",
     "text": [
      "(1, 28, 28)\n"
     ]
    }
   ],
   "source": [
    "img = (np.expand_dims(img,0))\n",
    "print(img.shape)"
   ]
  },
  {
   "cell_type": "code",
   "execution_count": 32,
   "id": "29f71c68",
   "metadata": {},
   "outputs": [
    {
     "name": "stdout",
     "output_type": "stream",
     "text": [
      "[[2.8727573e-08 4.4097992e-10 1.8228328e-06 2.3027292e-12 2.6780496e-08\n",
      "  3.8054472e-04 2.5934904e-07 2.0089422e-03 4.7086499e-09 9.9760830e-01]]\n"
     ]
    }
   ],
   "source": [
    "predictions_single = model.predict(img)\n",
    "print(predictions_single)"
   ]
  },
  {
   "cell_type": "code",
   "execution_count": 33,
   "id": "b2b0a945",
   "metadata": {},
   "outputs": [
    {
     "data": {
      "image/png": "[encoded data removed]",
      "text/plain": [
       "<Figure size 432x288 with 1 Axes>"
      ]
     },
     "metadata": {
      "needs_background": "light"
     },
     "output_type": "display_data"
    }
   ],
   "source": [
    "plot_value_array(0, predictions_single, test_labels)\n",
    "_ = plt.xticks(range(10), class_names, rotation=45)"
   ]
  },
  {
   "cell_type": "code",
   "execution_count": 34,
   "id": "74028d41",
   "metadata": {},
   "outputs": [
    {
     "data": {
      "text/plain": [
       "9"
      ]
     },
     "execution_count": 34,
     "metadata": {},
     "output_type": "execute_result"
    }
   ],
   "source": [
    "np.argmax(predictions_single[0])"
   ]
  },
  {
   "cell_type": "markdown",
   "id": "5defc93f",
   "metadata": {},
   "source": [
    "Na koniec należy tylko zapisać obraz do formatu .png w celu importowania modelu do matlaba"
   ]
  },
  {
   "cell_type": "code",
   "execution_count": 18,
   "id": "81247337",
   "metadata": {},
   "outputs": [
    {
     "data": {
      "text/plain": [
       "(28, 28)"
      ]
     },
     "execution_count": 18,
     "metadata": {},
     "output_type": "execute_result"
    }
   ],
   "source": [
    "img1 = test_images[0]\n",
    "plt.imshow(img1)\n",
    "plt.imsave('test_img.png', img1)\n"
   ]
  },
  {
   "cell_type": "code",
   "execution_count": 19,
   "id": "0410db30",
   "metadata": {},
   "outputs": [
    {
     "data": {
      "text/plain": [
       "array([[  0,   0,   0,   0,   0,   0,   0,   0,   0,   0,   0,   0,   0,\n",
       "          0,   0,   0,   0,   0,   0,   0,   0,   0,   0,   0,   0,   0,\n",
       "          0,   0],\n",
       "       [  0,   0,   0,   0,   0,   0,   0,   0,   0,   0,   0,   0,   0,\n",
       "          0,   0,   0,   0,   0,   0,   0,   0,   0,   0,   0,   0,   0,\n",
       "          0,   0],\n",
       "       [  0,   0,   0,   0,   0,   0,   0,   0,   0,   0,   0,   0,   0,\n",
       "          0,   0,   0,   0,   0,   0,   0,   0,   0,   0,   0,   0,   0,\n",
       "          0,   0],\n",
       "       [  0,   0,   0,   0,   0,   0,   0,   0,   0,   0,   0,   0,   0,\n",
       "          0,   0,   0,   0,   0,   0,   0,   0,   0,   0,   0,   0,   0,\n",
       "          0,   0],\n",
       "       [  0,   0,   0,   0,   0,   0,   0,   0,   0,   0,   0,   0,   0,\n",
       "          0,   0,   0,   0,   0,   0,   0,   0,   0,   0,   0,   0,   0,\n",
       "          0,   0],\n",
       "       [  0,   0,   0,   0,   0,   0,   0,   0,   0,   0,   0,   0,   0,\n",
       "          0,   0,   0,   0,   0,   0,   0,   0,   0,   0,   0,   0,   0,\n",
       "          0,   0],\n",
       "       [  0,   0,   0,   0,   0,   0,   0,   0,   0,   0,   0,   0,   0,\n",
       "          0,   0,   0,   0,   0,   0,   0,   0,   0,   0,   0,   0,   0,\n",
       "          0,   0],\n",
       "       [  0,   0,   0,   0,   0,   0,   0,   0,   0,   0,   0,   0,   0,\n",
       "          0,   0,   0,   0,   0,   0,   3,   1,   0,   0,   7,   0,  37,\n",
       "          0,   0],\n",
       "       [  0,   0,   0,   0,   0,   0,   0,   0,   0,   0,   0,   0,   0,\n",
       "          1,   2,   0,  27,  84,  11,   0,   0,   0,   0,   0,   0, 119,\n",
       "          0,   0],\n",
       "       [  0,   0,   0,   0,   0,   0,   0,   0,   0,   0,   0,   0,   0,\n",
       "          1,   0,   0,  88, 143, 110,   0,   0,   0,   0,  22,  93, 106,\n",
       "          0,   0],\n",
       "       [  0,   0,   0,   0,   0,   0,   0,   0,   0,   0,   0,   0,   0,\n",
       "          4,   0,  53, 129, 120, 147, 175, 157, 166, 135, 154, 168, 140,\n",
       "          0,   0],\n",
       "       [  0,   0,   0,   0,   0,   0,   0,   0,   0,   0,   0,   0,   2,\n",
       "          0,  11, 137, 130, 128, 160, 176, 159, 167, 178, 149, 151, 144,\n",
       "          0,   0],\n",
       "       [  0,   0,   0,   0,   0,   0,   1,   0,   2,   1,   0,   3,   0,\n",
       "          0, 115, 114, 106, 137, 168, 153, 156, 165, 167, 143, 157, 158,\n",
       "         11,   0],\n",
       "       [  0,   0,   0,   0,   1,   0,   0,   0,   0,   0,   3,   0,   0,\n",
       "         89, 139,  90,  94, 153, 149, 131, 151, 169, 172, 143, 159, 169,\n",
       "         48,   0],\n",
       "       [  0,   0,   0,   0,   0,   0,   2,   4,   1,   0,   0,   0,  98,\n",
       "        136, 110, 109, 110, 162, 135, 144, 149, 159, 167, 144, 158, 169,\n",
       "        119,   0],\n",
       "       [  0,   0,   2,   2,   1,   2,   0,   0,   0,   0,  26, 108, 117,\n",
       "         99, 111, 117, 136, 156, 134, 154, 154, 156, 160, 141, 147, 156,\n",
       "        178,   0],\n",
       "       [  3,   0,   0,   0,   0,   0,   0,  21,  53,  92, 117, 111, 103,\n",
       "        115, 129, 134, 143, 154, 165, 170, 154, 151, 154, 143, 138, 150,\n",
       "        165,  43],\n",
       "       [  0,   0,  23,  54,  65,  76,  85, 118, 128, 123, 111, 113, 118,\n",
       "        127, 125, 139, 133, 136, 160, 140, 155, 161, 144, 155, 172, 161,\n",
       "        189,  62],\n",
       "       [  0,  68,  94,  90, 111, 114, 111, 114, 115, 127, 135, 136, 143,\n",
       "        126, 127, 151, 154, 143, 148, 125, 162, 162, 144, 138, 153, 162,\n",
       "        196,  58],\n",
       "       [ 70, 169, 129, 104,  98, 100,  94,  97,  98, 102, 108, 106, 119,\n",
       "        120, 129, 149, 156, 167, 190, 190, 196, 198, 198, 187, 197, 189,\n",
       "        184,  36],\n",
       "       [ 16, 126, 171, 188, 188, 184, 171, 153, 135, 120, 126, 127, 146,\n",
       "        185, 195, 209, 208, 255, 209, 177, 245, 252, 251, 251, 247, 220,\n",
       "        206,  49],\n",
       "       [  0,   0,   0,  12,  67, 106, 164, 185, 199, 210, 211, 210, 208,\n",
       "        190, 150,  82,   8,   0,   0,   0, 178, 208, 188, 175, 162, 158,\n",
       "        151,  11],\n",
       "       [  0,   0,   0,   0,   0,   0,   0,   0,   0,   0,   0,   0,   0,\n",
       "          0,   0,   0,   0,   0,   0,   0,   0,   0,   0,   0,   0,   0,\n",
       "          0,   0],\n",
       "       [  0,   0,   0,   0,   0,   0,   0,   0,   0,   0,   0,   0,   0,\n",
       "          0,   0,   0,   0,   0,   0,   0,   0,   0,   0,   0,   0,   0,\n",
       "          0,   0],\n",
       "       [  0,   0,   0,   0,   0,   0,   0,   0,   0,   0,   0,   0,   0,\n",
       "          0,   0,   0,   0,   0,   0,   0,   0,   0,   0,   0,   0,   0,\n",
       "          0,   0],\n",
       "       [  0,   0,   0,   0,   0,   0,   0,   0,   0,   0,   0,   0,   0,\n",
       "          0,   0,   0,   0,   0,   0,   0,   0,   0,   0,   0,   0,   0,\n",
       "          0,   0],\n",
       "       [  0,   0,   0,   0,   0,   0,   0,   0,   0,   0,   0,   0,   0,\n",
       "          0,   0,   0,   0,   0,   0,   0,   0,   0,   0,   0,   0,   0,\n",
       "          0,   0],\n",
       "       [  0,   0,   0,   0,   0,   0,   0,   0,   0,   0,   0,   0,   0,\n",
       "          0,   0,   0,   0,   0,   0,   0,   0,   0,   0,   0,   0,   0,\n",
       "          0,   0]], dtype=uint8)"
      ]
     },
     "execution_count": 19,
     "metadata": {},
     "output_type": "execute_result"
    }
   ],
   "source": [
    "img1\n"
   ]
  }
 ],
 "metadata": {
  "kernelspec": {
   "display_name": "nnenv",
   "language": "python",
   "name": "nnenv"
  },
  "language_info": {
   "codemirror_mode": {
    "name": "ipython",
    "version": 3
   },
   "file_extension": ".py",
   "mimetype": "text/x-python",
   "name": "python",
   "nbconvert_exporter": "python",
   "pygments_lexer": "ipython3",
   "version": "3.9.12"
  }
 },
 "nbformat": 4,
 "nbformat_minor": 5
}
